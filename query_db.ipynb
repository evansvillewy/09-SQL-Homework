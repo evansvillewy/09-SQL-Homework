{
 "cells": [
  {
   "cell_type": "code",
   "execution_count": 4,
   "metadata": {},
   "outputs": [],
   "source": [
    "import pandas as pd\n",
    "import numpy as np\n",
    "import psycopg2\n",
    "import sqlalchemy\n",
    "import matplotlib.pyplot as plt\n",
    "import scipy.stats as sts\n",
    "from config import user, password"
   ]
  },
  {
   "cell_type": "code",
   "execution_count": 5,
   "metadata": {},
   "outputs": [],
   "source": [
    "# source reference\n",
    "#https://blog.panoply.io/connecting-jupyter-notebook-with-postgresql-for-python-data-analysis\n",
    "from sqlalchemy import create_engine\n",
    "# Postgres username, password, and database name\n",
    "POSTGRES_ADDRESS = 'localhost'\n",
    "POSTGRES_PORT = '5432'\n",
    "POSTGRES_USERNAME = user \n",
    "POSTGRES_PASSWORD = password  \n",
    "POSTGRES_DBNAME = '09-SQL-Homework' \n",
    "# A long string that contains the necessary Postgres login information\n",
    "postgres_str = ('postgresql://{username}:{password}@{ipaddress}:{port}/{dbname}'\n",
    ".format(username=POSTGRES_USERNAME,password=POSTGRES_PASSWORD,ipaddress=POSTGRES_ADDRESS,port=POSTGRES_PORT,dbname=POSTGRES_DBNAME))\n",
    "# Create the connection\n",
    "cnx = create_engine(postgres_str)"
   ]
  },
  {
   "cell_type": "code",
   "execution_count": 6,
   "metadata": {},
   "outputs": [],
   "source": [
    "salaries_df = pd.read_sql_query('''SELECT salary FROM salaries;''', cnx)"
   ]
  },
  {
   "cell_type": "code",
   "execution_count": 7,
   "metadata": {},
   "outputs": [
    {
     "data": {
      "text/html": [
       "<div>\n",
       "<style scoped>\n",
       "    .dataframe tbody tr th:only-of-type {\n",
       "        vertical-align: middle;\n",
       "    }\n",
       "\n",
       "    .dataframe tbody tr th {\n",
       "        vertical-align: top;\n",
       "    }\n",
       "\n",
       "    .dataframe thead th {\n",
       "        text-align: right;\n",
       "    }\n",
       "</style>\n",
       "<table border=\"1\" class=\"dataframe\">\n",
       "  <thead>\n",
       "    <tr style=\"text-align: right;\">\n",
       "      <th></th>\n",
       "      <th>salary</th>\n",
       "    </tr>\n",
       "  </thead>\n",
       "  <tbody>\n",
       "    <tr>\n",
       "      <td>0</td>\n",
       "      <td>60117</td>\n",
       "    </tr>\n",
       "    <tr>\n",
       "      <td>1</td>\n",
       "      <td>65828</td>\n",
       "    </tr>\n",
       "    <tr>\n",
       "      <td>2</td>\n",
       "      <td>40006</td>\n",
       "    </tr>\n",
       "    <tr>\n",
       "      <td>3</td>\n",
       "      <td>40054</td>\n",
       "    </tr>\n",
       "    <tr>\n",
       "      <td>4</td>\n",
       "      <td>78228</td>\n",
       "    </tr>\n",
       "  </tbody>\n",
       "</table>\n",
       "</div>"
      ],
      "text/plain": [
       "   salary\n",
       "0   60117\n",
       "1   65828\n",
       "2   40006\n",
       "3   40054\n",
       "4   78228"
      ]
     },
     "execution_count": 7,
     "metadata": {},
     "output_type": "execute_result"
    }
   ],
   "source": [
    "# examine the sql return\n",
    "salaries_df.head()"
   ]
  },
  {
   "cell_type": "code",
   "execution_count": 8,
   "metadata": {},
   "outputs": [
    {
     "name": "stdout",
     "output_type": "stream",
     "text": [
      "The salary count is 300024\n",
      "The min salary is 40000\n",
      "The max salary is 129492\n",
      "The median salary is 48681.0\n",
      "The mode salary is ModeResult(mode=array([40000], dtype=int64), count=array([95346]))\n"
     ]
    }
   ],
   "source": [
    "# examine the salaries\n",
    "# Get the measures of central tendency\n",
    "count_salary = salaries_df['salary'].count()\n",
    "print(f\"The salary count is {count_salary}\")\n",
    "\n",
    "# Get the measures of central tendency\n",
    "min_salary = np.min(salaries_df['salary'])\n",
    "print(f\"The min salary is {min_salary}\")\n",
    "\n",
    "# Get the max salary  \n",
    "max_salary = np.max(salaries_df['salary'])\n",
    "print(f\"The max salary is {max_salary}\")\n",
    "\n",
    "# Get the median salary \n",
    "median_salary= np.median(salaries_df['salary'])\n",
    "print(f\"The median salary is {median_salary}\")\n",
    "\n",
    "mode_salary = sts.mode(salaries_df['salary'])\n",
    "print(f\"The mode salary is {mode_salary}\")"
   ]
  },
  {
   "cell_type": "code",
   "execution_count": 9,
   "metadata": {},
   "outputs": [
    {
     "data": {
      "text/plain": [
       "40000     95346\n",
       "55581        19\n",
       "53738        18\n",
       "53078        18\n",
       "47454        17\n",
       "          ...  \n",
       "83515         1\n",
       "109998        1\n",
       "79413         1\n",
       "105802        1\n",
       "81762         1\n",
       "Name: salary, Length: 50355, dtype: int64"
      ]
     },
     "execution_count": 9,
     "metadata": {},
     "output_type": "execute_result"
    }
   ],
   "source": [
    "# examine the salaries\n",
    "salaries_df['salary'].value_counts().sort_values(ascending=False)"
   ]
  },
  {
   "cell_type": "code",
   "execution_count": 10,
   "metadata": {},
   "outputs": [
    {
     "data": {
      "image/png": "[encoded data removed]",
      "text/plain": [
       "<Figure size 1440x720 with 1 Axes>"
      ]
     },
     "metadata": {
      "needs_background": "light"
     },
     "output_type": "display_data"
    },
    {
     "name": "stdout",
     "output_type": "stream",
     "text": [
      "Sample does not look Gaussian/normal (reject NULL hypothesis p-value = 0.021951773058690505\n"
     ]
    }
   ],
   "source": [
    "# Display the distribution of the salaries\n",
    "# source - UCF Bootcamp stats training :)\n",
    "# and to help me understand the result of normaltest\n",
    "# https://datascienceplus.com/normality-tests-in-python/\n",
    "# draw an average line in histogram\n",
    "#https://stackoverflow.com/questions/16180946/drawing-average-line-in-histogram-matplotlib\n",
    "\n",
    "#adjust the figure size\n",
    "fig_size = plt.rcParams[\"figure.figsize\"]\n",
    "fig_size[0] = 20\n",
    "fig_size[1] = 10\n",
    "plt.rcParams[\"figure.figsize\"] = fig_size\n",
    "\n",
    "#set tick font size and plot font size\n",
    "plt.tick_params(labelsize=15)\n",
    "plt.rcParams.update({'font.size': 15})\n",
    "\n",
    "#histogram, labels and mean line\n",
    "plt.hist(salaries_df['salary'])\n",
    "plt.title(\"Distribution of salaries\")\n",
    "plt.xlabel('Salaries')\n",
    "plt.ylabel('Counts')\n",
    "plt.axvline(salaries_df['salary'].mean(), color='r', linestyle='dashed', linewidth=2,label='Mean salary '+str(round(salaries_df['salary'].mean())))\n",
    "plt.legend()\n",
    "\n",
    "x_axis = np.arange(min_salary,max_salary,10000)\n",
    "\n",
    "# Create the ticks for our bar chart's x axis\n",
    "tick_locations = [value for value in x_axis]\n",
    "plt.xticks(tick_locations, x_axis)\n",
    "\n",
    "# save then show\n",
    "plt.savefig(\"./Images/distribution_salaryp.png\")\n",
    "plt.show()\n",
    "\n",
    "# normality test\n",
    "# provide the p-value\n",
    "stat, p = sts.normaltest(salaries_df['salary'].sample(50))\n",
    "\n",
    "# interpret\n",
    "alpha = 0.05\n",
    "if p > alpha:\n",
    "    print(f'Sample looks Gaussian/normal (fail to reject NULL hypothesis p-value = {p}')\n",
    "else:\n",
    "    print(f'Sample does not look Gaussian/normal (reject NULL hypothesis p-value = {p}')"
   ]
  },
  {
   "cell_type": "code",
   "execution_count": 11,
   "metadata": {},
   "outputs": [],
   "source": [
    "# query db to get the average salaries by title\n",
    "avg_title_salaries_df = (pd.read_sql_query(\n",
    "                        '''select t.title,round(avg(s.salary)) average_title_salary\n",
    "                        from salaries s\n",
    "                        join titles t on\n",
    "                        t.emp_no = s.emp_no\n",
    "                        group by t.title;\n",
    "                        ''', cnx)\n",
    "                        )"
   ]
  },
  {
   "cell_type": "code",
   "execution_count": 12,
   "metadata": {},
   "outputs": [
    {
     "data": {
      "text/html": [
       "<div>\n",
       "<style scoped>\n",
       "    .dataframe tbody tr th:only-of-type {\n",
       "        vertical-align: middle;\n",
       "    }\n",
       "\n",
       "    .dataframe tbody tr th {\n",
       "        vertical-align: top;\n",
       "    }\n",
       "\n",
       "    .dataframe thead th {\n",
       "        text-align: right;\n",
       "    }\n",
       "</style>\n",
       "<table border=\"1\" class=\"dataframe\">\n",
       "  <thead>\n",
       "    <tr style=\"text-align: right;\">\n",
       "      <th></th>\n",
       "      <th>title</th>\n",
       "      <th>average_title_salary</th>\n",
       "    </tr>\n",
       "  </thead>\n",
       "  <tbody>\n",
       "    <tr>\n",
       "      <td>0</td>\n",
       "      <td>Assistant Engineer</td>\n",
       "      <td>48493.0</td>\n",
       "    </tr>\n",
       "    <tr>\n",
       "      <td>1</td>\n",
       "      <td>Engineer</td>\n",
       "      <td>48540.0</td>\n",
       "    </tr>\n",
       "    <tr>\n",
       "      <td>2</td>\n",
       "      <td>Manager</td>\n",
       "      <td>51531.0</td>\n",
       "    </tr>\n",
       "    <tr>\n",
       "      <td>3</td>\n",
       "      <td>Senior Engineer</td>\n",
       "      <td>48507.0</td>\n",
       "    </tr>\n",
       "    <tr>\n",
       "      <td>4</td>\n",
       "      <td>Senior Staff</td>\n",
       "      <td>58503.0</td>\n",
       "    </tr>\n",
       "    <tr>\n",
       "      <td>5</td>\n",
       "      <td>Staff</td>\n",
       "      <td>58465.0</td>\n",
       "    </tr>\n",
       "    <tr>\n",
       "      <td>6</td>\n",
       "      <td>Technique Leader</td>\n",
       "      <td>48581.0</td>\n",
       "    </tr>\n",
       "  </tbody>\n",
       "</table>\n",
       "</div>"
      ],
      "text/plain": [
       "                title  average_title_salary\n",
       "0  Assistant Engineer               48493.0\n",
       "1            Engineer               48540.0\n",
       "2             Manager               51531.0\n",
       "3     Senior Engineer               48507.0\n",
       "4        Senior Staff               58503.0\n",
       "5               Staff               58465.0\n",
       "6    Technique Leader               48581.0"
      ]
     },
     "execution_count": 12,
     "metadata": {},
     "output_type": "execute_result"
    }
   ],
   "source": [
    "# examine the saverafe salaries vy title\n",
    "avg_title_salaries_df.head(7)"
   ]
  },
  {
   "cell_type": "code",
   "execution_count": 13,
   "metadata": {},
   "outputs": [
    {
     "data": {
      "image/png": "[encoded data removed]",
      "text/plain": [
       "<Figure size 1440x720 with 1 Axes>"
      ]
     },
     "metadata": {
      "needs_background": "light"
     },
     "output_type": "display_data"
    }
   ],
   "source": [
    "# create a bar chart of average salaries by title\n",
    "#Source reference on fig size\n",
    "# https://stackabuse.com/python-data-visualization-with-matplotlib/\n",
    "titles = avg_title_salaries_df['title']\n",
    "x_axis = np.arange(len(titles))\n",
    "y_axis = avg_title_salaries_df['average_title_salary']\n",
    "\n",
    "#set tick font size and plot font size\n",
    "plt.tick_params(labelsize=15)\n",
    "plt.rcParams.update({'font.size': 15})\n",
    "\n",
    "#set figue size\n",
    "fig_size = plt.rcParams[\"figure.figsize\"]\n",
    "fig_size[0] = 20\n",
    "fig_size[1] = 10\n",
    "plt.rcParams[\"figure.figsize\"] = fig_size\n",
    "\n",
    "# Labels and titles\n",
    "plt.title(\"Average Salary by Title\")\n",
    "plt.xlabel(\"Title\")\n",
    "plt.ylabel(\"Average Salary\")\n",
    "\n",
    "# Create a bar chart based upon the above data\n",
    "plt.bar(x_axis, y_axis, color=\"b\", align=\"center\")\n",
    "\n",
    "# Create the ticks for our bar chart's x axis\n",
    "tick_locations = [value for value in x_axis]\n",
    "plt.xticks(tick_locations, titles,rotation=45)\n",
    "\n",
    "#save our chart\n",
    "plt.tight_layout()\n",
    "plt.savefig(\"./Images/bar_average_salary_by_title.png\")"
   ]
  },
  {
   "cell_type": "markdown",
   "metadata": {},
   "source": [
    "## Epilogue\n",
    "\n",
    "This data is very skewed. Far too many employees have a salary of 40k .\n",
    "\n",
    "Evidence in hand, you march into your boss's office and present the visualization. \n",
    "With a sly grin, your boss thanks you for your work. On your way out of the office, \n",
    "you hear the words, \"Search your ID number.\" \n",
    "You look down at your badge to see that your employee ID number is 499942.\n",
    "\n",
    "HAHAHAHA - My name is April Foolsday!!!!!!"
   ]
  }
 ],
 "metadata": {
  "kernelspec": {
   "display_name": "Python 3",
   "language": "python",
   "name": "python3"
  },
  "language_info": {
   "codemirror_mode": {
    "name": "ipython",
    "version": 3
   },
   "file_extension": ".py",
   "mimetype": "text/x-python",
   "name": "python",
   "nbconvert_exporter": "python",
   "pygments_lexer": "ipython3",
   "version": "3.6.9"
  }
 },
 "nbformat": 4,
 "nbformat_minor": 2
}
